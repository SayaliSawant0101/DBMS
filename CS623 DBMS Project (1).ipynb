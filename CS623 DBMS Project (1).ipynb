{
 "cells": [
  {
   "cell_type": "code",
   "execution_count": 9,
   "id": "c50fcded-953d-44f6-8672-13182abf7064",
   "metadata": {},
   "outputs": [
    {
     "name": "stdout",
     "output_type": "stream",
     "text": [
      "('p100      ', 'd2        ', 50)\n",
      "('p3        ', 'd4        ', 2000)\n",
      "('p2        ', 'd4        ', 1500)\n",
      "('p2        ', 'd2        ', 2000)\n",
      "PostgreSQL connection is now closed\n"
     ]
    }
   ],
   "source": [
    "import psycopg2\n",
    "from tabulate import tabulate\n",
    "\n",
    "con = psycopg2.connect(\n",
    "    host=\"localhost\",\n",
    "    database=\"postgres\",\n",
    "    user=\"postgres\",\n",
    "    password=\"Sayali@123\")\n",
    "\n",
    "\n",
    "\n",
    "#For isolation: SERIALIZABLE\n",
    "con.set_isolation_level(3)\n",
    "#For atomicity\n",
    "con.autocommit = False\n",
    "\n",
    "try:\n",
    "    cur = con.cursor()\n",
    "\n",
    "    cur.execute(\"ALTER TABLE Stock ADD CONSTRAINT fk_depot FOREIGN KEY(dep_id) REFERENCES depot(dep_id) ON UPDATE CASCADE ON DELETE CASCADE\");\n",
    "    cur.execute(\"ALTER TABLE Stock ADD CONSTRAINT fk_product FOREIGN KEY(prod_id) REFERENCES product(prod_id) ON UPDATE CASCADE ON DELETE CASCADE\");\n",
    "    \n",
    "    #5 We add a product (p100, cd, 5) in Product and (p100, d2, 50) in Stock.\n",
    "    cur.execute(\"insert into product values ('p100','cd',5)\")\n",
    "    cur.execute(\"insert into stock values ('p100','d2',50)\")\n",
    "    \n",
    "    #6 We add a depot (d100, Chicago, 100) in Depot and (p1, d100, 100) in Stock.\n",
    "    cur.execute(\"insert into depot values ('d100','Chicago',100)\")\n",
    "    cur.execute(\"insert into stock values ('p1','d100',100)\")\n",
    "\n",
    "    # #3 The product p1 changes its name to pp1 in Product and Stock.\n",
    "    cur.execute(\"update product set prod_id = 'pp1' where prod_id ='p1'\")\n",
    "    # # Since we have added the on update and on delete cascade, we do not need to execute below query to update stock. Chnages in product will auto reflect in stock\n",
    "    # #cur.execute(\"update stock set prod_id = 'pp1' where prod_id ='p1'\")\n",
    "\n",
    "    # #4 The depot d1 changes its name to dd1 in Depot and Stock.\n",
    "    cur.execute(\"update depot set dep_id = 'dd1' where dep_id ='d1'\")\n",
    "    # # Since we have added the on update and on delete cascade, we do not need to execute below query to update stock. Changes in depot will auto reflect in stock\n",
    "    # #cur.execute(\"update stock set dep_id = 'dd1' where dep_id ='d1'\")\n",
    "    \n",
    "    # #1 The product p1 is deleted from Product and Stock.\n",
    "    cur.execute(\"delete from product where prod_id='pp1'\")\n",
    "    # # Since we have added the on update and on delete cascade, we do not need to execute below query to update stock. Changes in product will auto reflect in stock\n",
    "    # #cur.execute(\"delete from stock where prod_id='pp1'\")\n",
    "\n",
    "    # #2 The depot d1 is deleted from Depot and Stock.\n",
    "    cur.execute(\"delete from depot where dep_id='dd1'\")\n",
    "    # # Since we have added the on update and on delete cascade, we do not need to execute below query to update stock. Changes in depot will auto reflect in stock\n",
    "    # #cur.execute(\"delete from stock where dep_id='dd1'\")\n",
    "    \n",
    "    cur.execute(\"select * from stock\")\n",
    "    \n",
    "    rows = cur.fetchall()\n",
    "    for row in rows:\n",
    "        print(row)\n",
    "\n",
    "except (Exception, psycopg2.DatabaseError) as err:\n",
    "    print(err)\n",
    "    print(\"Transactions could not be completed so database will be rolled back before start of transactions\")\n",
    "    con.rollback()\n",
    "finally:\n",
    "    if con:\n",
    "        con.commit()\n",
    "        cur.close\n",
    "        con.close\n",
    "        print(\"PostgreSQL connection is now closed\")"
   ]
  },
  {
   "cell_type": "code",
   "execution_count": null,
   "id": "9cd14d24-f953-4a27-8b76-36fa6cde397d",
   "metadata": {},
   "outputs": [],
   "source": []
  },
  {
   "cell_type": "code",
   "execution_count": null,
   "id": "30ab6cdb-084c-4744-8a6e-467fbe041c9f",
   "metadata": {},
   "outputs": [],
   "source": []
  },
  {
   "cell_type": "code",
   "execution_count": null,
   "id": "29660c9d-e080-4c4a-b2f5-55d286452bf9",
   "metadata": {},
   "outputs": [],
   "source": []
  },
  {
   "cell_type": "code",
   "execution_count": null,
   "id": "beb0b100-8f1e-4b7d-b031-cb5a8e1905ea",
   "metadata": {},
   "outputs": [],
   "source": []
  },
  {
   "cell_type": "code",
   "execution_count": null,
   "id": "99b9c188-880b-4311-b844-f037e958cda4",
   "metadata": {},
   "outputs": [],
   "source": []
  }
 ],
 "metadata": {
  "kernelspec": {
   "display_name": "Python 3 (ipykernel)",
   "language": "python",
   "name": "python3"
  },
  "language_info": {
   "codemirror_mode": {
    "name": "ipython",
    "version": 3
   },
   "file_extension": ".py",
   "mimetype": "text/x-python",
   "name": "python",
   "nbconvert_exporter": "python",
   "pygments_lexer": "ipython3",
   "version": "3.12.7"
  }
 },
 "nbformat": 4,
 "nbformat_minor": 5
}
